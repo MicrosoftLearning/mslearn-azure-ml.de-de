{
  "cells": [
    {
      "cell_type": "markdown",
      "metadata": {},
      "source": [
        "# Optimieren von Hyperparametern mit einem Sweepauftrag\n",
        "\n",
        "Es gibt viele Machine Learning-Algorithmen, die Hyperparameter erfordern (Parameterwerte, die das Training beeinflussen, aber nicht anhand der Trainingsdaten selbst bestimmt werden können). Wenn Sie zum Beispiel ein Modell für logistische Regression trainieren, können Sie den Hyperparameter „Abgrenzungsrate“ verwenden, um einer Verzerrung des Modells entgegenzuwirken. Oder Sie können beim Trainieren eines Convolutional Neural Networks (CNN) Hyperparameter wie „Lernrate“ und „Batchgröße“ verwenden, um zu steuern, wie Gewichtungen während des Trainings angepasst werden und wie viele Datenelemente in den einzelnen Minibatches enthalten sind. Die Auswahl von Hyperparameterwerten kann sich erheblich auf die Leistung eines trainierten Modells oder auf die Zeit auswirken, die für das Trainieren des Modells aufgewendet werden muss. Häufig müssen Sie mehrere Kombinationen ausprobieren, um die optimale Lösung zu finden. \n",
        "\n",
        "## Vorbereitung\n",
        "\n",
        "Sie benötigen die neueste Version des Pakets **azureml-ai-ml**, um den Code in diesem Notebook auszuführen. Führen Sie die folgende Zelle aus, um zu überprüfen, ob das Paket installiert ist.\n",
        "\n",
        "> **Hinweis**:\n",
        "> Wenn das Paket **azure-ai-ml** nicht installiert ist, führen Sie `pip install azure-ai-ml` aus, um es zu installieren."
      ]
    },
    {
      "cell_type": "code",
      "execution_count": null,
      "metadata": {
        "gather": {
          "logged": 1667591781367
        },
        "vscode": {
          "languageId": "python"
        }
      },
      "outputs": [],
      "source": [
        "## Herstellen einer Verbindung mit Ihrem Arbeitsbereich\n",
        "\n",
        "Sie können nun eine Verbindung mit Ihrem Arbeitsbereich herstellen, nachdem Sie die erforderlichen SDK-Pakete installiert haben.\n",
        "\n",
        "Um eine Verbindung mit einem Arbeitsbereich herzustellen, benötigen Sie Bezeichnerparameter: eine Abonnement-ID, einen Ressourcengruppennamen und einen Arbeitsbereichsnamen. Der Ressourcengruppenname und Arbeitsbereichsname sind bereits für Sie ausgefüllt. Sie müssen lediglich die Abonnement-ID angeben, um den Befehl zu vervollständigen.\n",
        "\n",
        "Um die erforderlichen Parameter zu finden, klicken Sie rechts oben in Studio auf das Abonnement und den Namen des Arbeitsbereichs. Rechts wird ein Bereich geöffnet.\n",
        "\n",
        "<p style=\"color:red;font-size:120%;background-color:yellow;font-weight:bold\"> Kopieren Sie die Abonnement-ID, und ersetzen Sie **YOUR-SUBSCRIPTION-ID** durch den Wert, den Sie kopiert haben. </p>"
      ]
    },
    {
      "attachments": {},
      "cell_type": "markdown",
      "metadata": {},
      "source": [
        "## Erstellen des Trainingsskripts\n",
        "Die Hyperparameteroptimierung ist ideal, wenn Sie ein Machine Learning-Modell trainieren möchten, aber die Eingabeparameter variieren möchten. Sie müssen ein Trainingsskript erstellen, das einen Eingabeparameter erwartet, der einen der Hyperparameter des Algorithmus darstellt.\n",
        "\n",
        "Führen Sie die folgenden Zellen aus, um den Ordner **src** und das Trainingsskript zu erstellen.\n",
        "\n",
        "Beachten Sie, dass das Trainingsskript zwei Eingabeparameter erwartet:\n",
        "\n",
        "- `--training_data`, der eine Zeichenfolge erwartet. Sie geben den Pfad zu einer registrierten Datenressource als die Eingabetrainingsdaten an.\n",
        "- `--reg_rate`, der eine Zahl erwartet, aber den Standardwert\u00A0`0.01` hat. Sie verwenden diesen Eingabeparameter für die Hyperparameteroptimierung."
      ]
    },
    {
      "cell_type": "code",
      "execution_count": null,
      "metadata": {
        "gather": {
          "logged": 1667591793668
        },
        "vscode": {
          "languageId": "python"
        }
      },
      "outputs": [],
      "source": [
        "## Konfigurieren und Ausführen eines Befehlsauftrags\n",
        "\n",
        "Führen Sie die folgende Zelle aus, um ein Klassifizierungsmodell zur Vorhersage von Diabetes zu trainieren. Das Modell wird trainiert, indem das Skript **train\\.py** ausgeführt wird, das sich im Ordner **src** befindet. Es verwendet die registrierte Datenressource `diabetes-data` als Trainingsdaten. \n",
        "\n",
        "- `code`: gibt den Ordner an, der das auszuführende Skript enthält.\n",
        "- `command`: gibt an, was genau ausgeführt werden soll.\n",
        "- `environment`: gibt die erforderlichen Pakete an, die in der Compute-Instanz installiert werden müssen, ehe der Befehl ausgeführt wird.\n",
        "- `compute`: gibt die Compute-Instanz an, die zum Ausführen des Befehls verwendet werden soll.\n",
        "- `display_name`: der Name des einzelnen Auftrags.\n",
        "- `experiment_name`: der Name des Experiments, zu dem der Auftrag gehört.\n",
        "\n",
        "Beachten Sie, dass der Befehlsauftrag das Trainingsskript nur einmal mit der Abgrenzungsrate `0.1` ausführt. Bevor Sie einen Sweepauftrag ausführen, um Hyperparameter zu optimieren, empfiehlt ein Test, ob Ihr Skript mit einem Befehlsauftrag wie erwartet funktioniert."
      ]
    },
    {
      "cell_type": "code",
      "execution_count": null,
      "metadata": {
        "gather": {
          "logged": 1667591797746
        },
        "vscode": {
          "languageId": "python"
        }
      },
      "outputs": [],
      "source": [
        "## Definieren des Suchbereichs\n",
        "\n",
        "Wenn Ihr Befehlsauftrag erfolgreich abgeschlossen wurde, können Sie einen Sweepauftrag konfigurieren und ausführen. \n",
        "\n",
        "Zunächst müssen Sie den Suchbereich für Ihren Hyperparameter angeben. Um drei Modelle mit jeweils einer anderen Abgrenzungsrate (`0.01`, `0.1` oder `1`) zu trainieren, können Sie den Suchbereich mit dem Hyperparameter `Choice` definieren. "
      ]
    },
    {
      "cell_type": "markdown",
      "metadata": {},
      "source": [
        "## Konfigurieren und Übermitteln des Sweepauftrags\n",
        "\n",
        "Sie verwenden die Sweepfunktion, um die Hyperparameteroptimierung für Ihr Trainingsskript durchzuführen. Zum Konfigurieren eines Sweepauftrags müssen Sie Folgendes angeben:\n",
        "\n",
        "- `compute`: Name des Computeziels, in dem der Auftrag ausgeführt werden soll.\n",
        "- `sampling_algorithm`:der Samplingalgorithmus für Hyperparameter, der im Suchbereich verwendet werden soll. Zulässige Werte sind `random`, `grid` und `bayesian`.\n",
        "- `primary_metric`: der Name der primären Metrik, die von jedem Testauftrag gemeldet wird. Die Metrik muss im Trainingsskript des Benutzers mithilfe von `mlflow.log_metric()` mit dem gleichen entsprechenden Metriknamen protokolliert werden.\n",
        "- `goal`: das Optimierungsziel von `primary_metric`. Die zulässigen Werte sind `maximize` und `minimize`.\n",
        "- `limits`: Grenzwerte für den Sweepauftrag. Beispiel: die maximale Anzahl von Testversionen oder Modellen, die Sie trainieren möchten.\n",
        "\n",
        "Beachten Sie, dass der Befehlsauftrag als Basis für den Sweepauftrag dient. Die Konfiguration des Befehlsauftrags wird vom Sweepauftrag wiederverwendet."
      ]
    },
    {
      "cell_type": "code",
      "execution_count": null,
      "metadata": {
        "gather": {
          "logged": 1667591853637
        },
        "vscode": {
          "languageId": "python"
        }
      },
      "outputs": [],
      "source": [
        "Führen Sie die folgende Zelle aus, um den Sweepauftrag zu übermitteln."
      ]
    },
    {
      "cell_type": "code",
      "execution_count": null,
      "metadata": {
        "vscode": {
          "languageId": "python"
        }
      },
      "outputs": [],
      "source": [
        "Wenn der Auftrag abgeschlossen ist, navigieren Sie zur Auftragsübersicht. Auf der Registerkarte **Versuche** sehen Sie alle Modelle, die trainiert wurden, und wie sich die Bewertung von `Accuracy` für jeden von Ihnen ausprobierten Abgrenzungsratenwert unterscheidet."
      ]
    },
    {
      "cell_type": "markdown",
      "metadata": {},
      "source": [
        "## Configure and run a command job\n",
        "\n",
        "Run the cell below to train a classification model to predict diabetes. The model is trained by running the **train\\.py** script that can be found in the **src** folder. It uses the registered `diabetes-data` data asset as the training data. \n",
        "\n",
        "- `code`: specifies the folder that includes the script to run.\n",
        "- `command`: specifies what to run exactly.\n",
        "- `environment`: specifies the necessary packages to be installed on the compute before running the command.\n",
        "- `compute`: specifies the compute to use to run the command.\n",
        "- `display_name`: the name of the individual job.\n",
        "- `experiment_name`: the name of the experiment the job belongs to.\n",
        "\n",
        "Note that the command job only runs the training script once, with a regularization rate of `0.1`. Before you run a sweep job to tune hyperparameters, it's a best practice to test whether your script works as expected with a command job."
      ]
    },
    {
      "cell_type": "code",
      "execution_count": null,
      "metadata": {
        "gather": {
          "logged": 1667592538771
        },
        "jupyter": {
          "outputs_hidden": false,
          "source_hidden": false
        },
        "nteract": {
          "transient": {
            "deleting": false
          }
        },
        "vscode": {
          "languageId": "python"
        }
      },
      "outputs": [],
      "source": [
        "from azure.ai.ml import command, Input\n",
        "from azure.ai.ml.constants import AssetTypes\n",
        "\n",
        "# configure job\n",
        "\n",
        "job = command(\n",
        "    code=\"./src\",\n",
        "    command=\"python train.py --training_data ${{inputs.diabetes_data}} --reg_rate ${{inputs.reg_rate}}\",\n",
        "    inputs={\n",
        "        \"diabetes_data\": Input(\n",
        "            type=AssetTypes.URI_FILE, \n",
        "            path=\"azureml:diabetes-data:1\"\n",
        "            ),\n",
        "        \"reg_rate\": 0.01,\n",
        "    },\n",
        "    environment=\"AzureML-sklearn-0.24-ubuntu18.04-py37-cpu@latest\",\n",
        "    compute=\"aml-cluster\",\n",
        "    display_name=\"diabetes-train-mlflow\",\n",
        "    experiment_name=\"diabetes-training\", \n",
        "    tags={\"model_type\": \"LogisticRegression\"}\n",
        "    )\n",
        "\n",
        "# submit job\n",
        "returned_job = ml_client.create_or_update(job)\n",
        "aml_url = returned_job.studio_url\n",
        "print(\"Monitor your job at\", aml_url)"
      ]
    },
    {
      "cell_type": "markdown",
      "metadata": {
        "nteract": {
          "transient": {
            "deleting": false
          }
        }
      },
      "source": [
        "## Define the search space\n",
        "\n",
        "When your command job has completed successfully, you can configure and run a sweep job. \n",
        "\n",
        "First, you'll need to specify the search space for your hyperparameter. To train three models, each with a different regularization rate (`0.01`, `0.1`, or `1`), you can define the search space with a `Choice` hyperparameter. "
      ]
    },
    {
      "cell_type": "code",
      "execution_count": null,
      "metadata": {
        "gather": {
          "logged": 1667592546442
        },
        "jupyter": {
          "outputs_hidden": false,
          "source_hidden": false
        },
        "nteract": {
          "transient": {
            "deleting": false
          }
        },
        "vscode": {
          "languageId": "python"
        }
      },
      "outputs": [],
      "source": [
        "from azure.ai.ml.sweep import Choice\n",
        "\n",
        "command_job_for_sweep = job(\n",
        "    reg_rate=Choice(values=[0.01, 0.1, 1]),\n",
        ")"
      ]
    },
    {
      "cell_type": "markdown",
      "metadata": {},
      "source": [
        "## Configure and submit the sweep job\n",
        "\n",
        "You'll use the sweep function to do hyperparameter tuning on your training script. To configure a sweep job, you'll need to configure the following:\n",
        "\n",
        "- `compute`: Name of the compute target to execute the job on.\n",
        "- `sampling_algorithm`: The hyperparameter sampling algorithm to use over the search space. Allowed values are `random`, `grid` and `bayesian`.\n",
        "- `primary_metric`: The name of the primary metric reported by each trial job. The metric must be logged in the user's training script using `mlflow.log_metric()` with the same corresponding metric name.\n",
        "- `goal`: The optimization goal of the `primary_metric`. The allowed values are `maximize` and `minimize`.\n",
        "- `limits`: Limits for the sweep job. For example, the maximum amount of trials or models you want to train.\n",
        "\n",
        "Note that the command job is used as the base for the sweep job. The configuration for the command job will be reused by the sweep job."
      ]
    },
    {
      "cell_type": "code",
      "execution_count": null,
      "metadata": {
        "gather": {
          "logged": 1667592681475
        },
        "jupyter": {
          "outputs_hidden": false,
          "source_hidden": false
        },
        "nteract": {
          "transient": {
            "deleting": false
          }
        },
        "vscode": {
          "languageId": "python"
        }
      },
      "outputs": [],
      "source": [
        "# apply the sweep parameter to obtain the sweep_job\n",
        "sweep_job = command_job_for_sweep.sweep(\n",
        "    compute=\"aml-cluster\",\n",
        "    sampling_algorithm=\"grid\",\n",
        "    primary_metric=\"training_accuracy_score\",\n",
        "    goal=\"Maximize\",\n",
        ")\n",
        "\n",
        "# set the name of the sweep job experiment\n",
        "sweep_job.experiment_name=\"sweep-diabetes\"\n",
        "\n",
        "# define the limits for this sweep\n",
        "sweep_job.set_limits(max_total_trials=4, max_concurrent_trials=2, timeout=7200)"
      ]
    },
    {
      "cell_type": "markdown",
      "metadata": {},
      "source": [
        "Run the following cell to submit the sweep job."
      ]
    },
    {
      "cell_type": "code",
      "execution_count": null,
      "metadata": {
        "gather": {
          "logged": 1667592716881
        },
        "jupyter": {
          "outputs_hidden": false,
          "source_hidden": false
        },
        "nteract": {
          "transient": {
            "deleting": false
          }
        },
        "vscode": {
          "languageId": "python"
        }
      },
      "outputs": [],
      "source": [
        "returned_sweep_job = ml_client.create_or_update(sweep_job)\n",
        "aml_url = returned_sweep_job.studio_url\n",
        "print(\"Monitor your job at\", aml_url)"
      ]
    },
    {
      "cell_type": "markdown",
      "metadata": {},
      "source": [
        "When the job is completed, navigate to the job overview. The **Trials** tab will show all models that have been trained and how the `Accuracy` score differs for each regularization rate value you tried."
      ]
    }
  ],
  "metadata": {
    "kernel_info": {
      "name": "python38-azureml"
    },
    "kernelspec": {
      "display_name": "Python 3.8 - AzureML",
      "language": "python",
      "name": "python38-azureml"
    },
    "microsoft": {
      "host": {
        "AzureML": {
          "notebookHasBeenCompleted": true
        }
      }
    },
    "nteract": {
      "version": "nteract-front-end@1.0.0"
    },
    "vscode": {
      "interpreter": {
        "hash": "f2b2cd046deda8eabef1e765a11d0ec9aa9bd1d31d56ce79c815a38c323e14ec"
      }
    }
  },
  "nbformat": 4,
  "nbformat_minor": 2
}