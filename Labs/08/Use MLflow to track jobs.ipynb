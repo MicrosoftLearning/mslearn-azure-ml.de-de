{
  "cells": [
    {
      "cell_type": "markdown",
      "metadata": {},
      "source": [
        "# Ausführen eines Trainingsskripts als Befehlsauftrag\n",
        "\n",
        "Sie können das Python SDK für Azure Machine Learning verwenden, um Skripts als Befehlsaufträge zu übermitteln. Mithilfe von Aufträgen können Sie die Eingabeparameter und Ausgaben beim Trainieren eines Machine Learning-Modells problemlos nachverfolgen.\n",
        "\n",
        "## Vorbereitung\n",
        "\n",
        "Sie benötigen die neueste Version des Pakets **azureml-ai-ml**, um den Code in diesem Notebook auszuführen. Führen Sie die folgende Zelle aus, um zu überprüfen, ob das Paket installiert ist.\n",
        "\n",
        "> **Hinweis**:\n",
        "> Wenn das Paket **azure-ai-ml** nicht installiert ist, führen Sie `pip install azure-ai-ml` aus, um es zu installieren."
      ]
    },
    {
      "cell_type": "code",
      "execution_count": null,
      "metadata": {
        "vscode": {
          "languageId": "python"
        }
      },
      "outputs": [],
      "source": [
        "## Herstellen einer Verbindung mit Ihrem Arbeitsbereich\n",
        "\n",
        "Sie können nun eine Verbindung mit Ihrem Arbeitsbereich herstellen, nachdem Sie die erforderlichen SDK-Pakete installiert haben.\n",
        "\n",
        "Um eine Verbindung mit einem Arbeitsbereich herzustellen, benötigen Sie Bezeichnerparameter: eine Abonnement-ID, einen Ressourcengruppennamen und einen Arbeitsbereichsnamen. Der Ressourcengruppenname und Arbeitsbereichsname sind bereits für Sie ausgefüllt. Sie müssen lediglich die Abonnement-ID angeben, um den Befehl zu vervollständigen.\n",
        "\n",
        "Um die erforderlichen Parameter zu finden, klicken Sie rechts oben in Studio auf das Abonnement und den Namen des Arbeitsbereichs. Rechts wird ein Bereich geöffnet.\n",
        "\n",
        "<p style=\"color:red;font-size:120%;background-color:yellow;font-weight:bold\"> Kopieren Sie die Abonnement-ID, und ersetzen Sie **YOUR-SUBSCRIPTION-ID** durch den Wert, den Sie kopiert haben. </p>"
      ]
    },
    {
      "attachments": {},
      "cell_type": "markdown",
      "metadata": {},
      "source": [
        "## Benutzerdefinierte Nachverfolgung mit MLflow\n",
        "\n",
        "Wenn Sie ein Skript als Auftrag ausführen, können Sie MLflow in Ihrem Trainingsskript verwenden, um das Modell nachzuverfolgen. Mit MLflow können Sie alle benutzerdefinierten Parameter, Metriken oder Artefakte nachverfolgen, die Sie mit der Auftragsausgabe speichern möchten.\n",
        "\n",
        "Führen Sie die folgenden Zellen aus, um im Ordner **src** das Skript **train-model-mlflow.py** zu erstellen. Das Skript trainiert ein Klassifizierungsmodell mithilfe der Datei **diabetes.csv** im selben Ordner, die als Argument übergeben wird. \n",
        "\n",
        "Überprüfen Sie den folgenden Code, um festzustellen, dass das Skript `mlflow` importiert und Folgendes protokolliert:\n",
        "\n",
        "- Die Abgrenzungsrate als **Parameter**. \n",
        "- Die Genauigkeit und AUC als **Metriken**.\n",
        "- Die gezeichnete ROC-Kurve als **Artefakt**."
      ]
    },
    {
      "cell_type": "code",
      "execution_count": null,
      "metadata": {
        "gather": {
          "logged": 1663753569264
        },
        "vscode": {
          "languageId": "python"
        }
      },
      "outputs": [],
      "source": [
        "Nun können Sie das Skript als Befehlsauftrag übermitteln.\n",
        "\n",
        "Führen Sie die folgende Zelle aus, um das Modell zu trainieren. "
      ]
    },
    {
      "cell_type": "code",
      "execution_count": null,
      "metadata": {
        "vscode": {
          "languageId": "python"
        }
      },
      "outputs": [],
      "source": [
        "Navigieren Sie in Studio zum Auftrag **diabetes-train-mlflow**, um die Übersicht über den ausgeführten Befehlsauftrag zu erkunden:\n",
        "\n",
        "- Sie finden die protokollierten Parameter auf der Registerkarte **Übersicht** unter **Parameter**.\n",
        "- Sie finden die protokollierten Metriken auf der Registerkarte **Metriken**.\n",
        "- Sie finden die protokollierten Artefakte auf der Registerkarte **Bilder** (speziell für Bilder) und auf der Registerkarte **Ausgaben und Protokolle** (alle Dateien)."
      ]
    },
    {
      "cell_type": "markdown",
      "metadata": {},
      "source": [
        "## Automatische Protokollierung mit MLflow\n",
        "\n",
        "Anstatt die benutzerdefinierte Protokollierung zu verwenden, kann MLflow auch alle Parameter, Metriken und Artefakte automatisch protokollieren. Für die automatische Protokollierung mit MLflow ist nur eine Codezeile erforderlich.\n",
        "\n",
        "Führen Sie die folgenden Zelle aus, um im Ordner **src** das Skript **train-model-autolog.py** zu erstellen. Das Skript trainiert ein Klassifizierungsmodell mithilfe der Datei **diabetes.csv** im selben Ordner, der als Argument übergeben wird. \n",
        "\n",
        "Überprüfen Sie den folgenden Code, um festzustellen, dass das Skript `mlflow` importiert und die automatische Protokollierung über die folgende Zeile aktiviert: \n",
        "\n",
        "`mlflow.autolog()`"
      ]
    },
    {
      "cell_type": "code",
      "execution_count": null,
      "metadata": {
        "vscode": {
          "languageId": "python"
        }
      },
      "outputs": [],
      "source": [
        "Nun können Sie das Skript als Befehlsauftrag übermitteln.\n",
        "\n",
        "Führen Sie die folgende Zelle aus, um das Modell zu trainieren. "
      ]
    },
    {
      "cell_type": "code",
      "execution_count": null,
      "metadata": {
        "vscode": {
          "languageId": "python"
        }
      },
      "outputs": [],
      "source": [
        "Navigieren Sie in Studio zum Auftrag **diabetes-train-autolog**, um die Übersicht über den ausgeführten Befehlsauftrag zu erkunden:\n",
        "\n",
        "- Sie finden die protokollierten Parameter auf der Registerkarte **Übersicht** unter **Parameter**.\n",
        "- Sie finden die protokollierten Metriken auf der Registerkarte **Metriken**.\n",
        "- Sie finden die protokollierten Artefakte auf der Registerkarte **Bilder** (speziell für Bilder) und auf der Registerkarte **Ausgaben und Protokolle** (alle Dateien samt Modelldateien)."
      ]
    },
    {
      "cell_type": "markdown",
      "metadata": {},
      "source": [
        "## Verwenden von MLflow zum Anzeigen von und Suchen nach Experimenten\n",
        "\n",
        "Azure Machine Learning Studio bietet eine benutzerfreundliche Benutzeroberfläche zum Anzeigen und Vergleichen von Auftragsausführungen. Alternativ können Sie mithilfe von MLflow Experimentaufträge anzeigen. \n",
        "\n",
        "Zum Auflisten der Aufträge im Arbeitsbereich können Sie die Experimente im Arbeitsbereich mit folgendem Befehl auflisten:\n"
      ]
    },
    {
      "cell_type": "code",
      "execution_count": null,
      "metadata": {
        "vscode": {
          "languageId": "python"
        }
      },
      "outputs": [],
      "source": [
        "Ein bestimmtes Experiment können Sie anhand seines Namens abrufen:"
      ]
    },
    {
      "cell_type": "markdown",
      "metadata": {},
      "source": [
        "Mithilfe eines Experimentnamens können Sie alle Aufträge dieses Experiments abrufen:"
      ]
    },
    {
      "cell_type": "markdown",
      "metadata": {},
      "source": [
        "Um Auftragsausführungen und -ausgaben einfacher zu vergleichen, können Sie die Suche so konfigurieren, dass die Ergebnisse sortiert werden. Die folgende Zelle sortiert die Ergebnisse beispielsweise anhand von `start_time` und zeigt maximal `2`\u00A0Ergebnisse: "
      ]
    },
    {
      "cell_type": "code",
      "execution_count": null,
      "metadata": {
        "vscode": {
          "languageId": "python"
        }
      },
      "outputs": [],
      "source": [
        "Sie können sogar eine Abfrage zum Filtern von Ausführungen erstellen. Abfragezeichenfolgen zum Filtern werden mit einer vereinfachten Version der SQL-Klausel `WHERE` geschrieben. \n",
        "\n",
        "Zum Filtern eignen sich zwei Klassen von Vergleichsoperatoren:\n",
        "\n",
        "- Numerische Vergleichsoperatoren (Metriken): =, !=, >, >=, < und <=.\n",
        "- Zeichenfolgenbasierte Vergleichsoperatoren (Parameter, Tags und Attribute): = und !=.\n",
        "\n",
        "Weitere Informationen finden Sie unter [Nachverfolgen von ML-Modellen mit MLflow und Azure Machine Learning](https://learn.microsoft.com/azure/machine-learning/how-to-track-experiments-mlflow)."
      ]
    },
    {
      "cell_type": "markdown",
      "metadata": {},
      "source": [
        "Now, you can submit the script as a command job.\n",
        "\n",
        "Run the cell below to train the model. "
      ]
    },
    {
      "cell_type": "code",
      "execution_count": null,
      "metadata": {
        "vscode": {
          "languageId": "python"
        }
      },
      "outputs": [],
      "source": [
        "from azure.ai.ml import command\n",
        "\n",
        "# configure job\n",
        "\n",
        "job = command(\n",
        "    code=\"./src\",\n",
        "    command=\"python train-model-autolog.py --training_data diabetes.csv\",\n",
        "    environment=\"AzureML-sklearn-0.24-ubuntu18.04-py37-cpu@latest\",\n",
        "    compute=\"aml-cluster\",\n",
        "    display_name=\"diabetes-train-autolog\",\n",
        "    experiment_name=\"diabetes-training\"\n",
        "    )\n",
        "\n",
        "# submit job\n",
        "returned_job = ml_client.create_or_update(job)\n",
        "aml_url = returned_job.studio_url\n",
        "print(\"Monitor your job at\", aml_url)"
      ]
    },
    {
      "cell_type": "markdown",
      "metadata": {},
      "source": [
        "In the Studio, navigate to the **diabetes-train-autolog** job to explore the overview of the command job you ran:\n",
        "\n",
        "- Find the logged parameters in the **Overview** tab, under **Params**.\n",
        "- Find the logged metrics in the **Metrics** tab.\n",
        "- Find the logged artifacts in the **Images** tab (specifically for images), and in the **Outputs + logs** tab (all files, including the model files)."
      ]
    },
    {
      "cell_type": "markdown",
      "metadata": {},
      "source": [
        "## Use MLflow to view and search for experiments\n",
        "\n",
        "The Azure Machine Learning Studio is an easy-to-use UI to view and compare job runs. Alternatively, you can use MLflow to view experiment jobs. \n",
        "\n",
        "To list the jobs in the workspace, use the following command to list the experiments in the workspace:\n"
      ]
    },
    {
      "cell_type": "code",
      "execution_count": null,
      "metadata": {
        "vscode": {
          "languageId": "python"
        }
      },
      "outputs": [],
      "source": [
        "import mlflow\n",
        "experiments = mlflow.list_experiments()\n",
        "for exp in experiments:\n",
        "    print(exp.name)"
      ]
    },
    {
      "cell_type": "markdown",
      "metadata": {},
      "source": [
        "To retrieve a specific experiment, you can get it by its name:"
      ]
    },
    {
      "cell_type": "code",
      "execution_count": null,
      "metadata": {
        "vscode": {
          "languageId": "python"
        }
      },
      "outputs": [],
      "source": [
        "experiment_name = \"diabetes-training\"\n",
        "exp = mlflow.get_experiment_by_name(experiment_name)\n",
        "print(exp)"
      ]
    },
    {
      "cell_type": "markdown",
      "metadata": {},
      "source": [
        "Using an experiment name, you can retrieve all jobs of that experiment:"
      ]
    },
    {
      "cell_type": "code",
      "execution_count": null,
      "metadata": {
        "vscode": {
          "languageId": "python"
        }
      },
      "outputs": [],
      "source": [
        "mlflow.search_runs(exp.experiment_id)"
      ]
    },
    {
      "cell_type": "markdown",
      "metadata": {},
      "source": [
        "To more easily compare job runs and outputs, you can configure the search to order the results. For example, the following cell orders the results by `start_time`, and only shows a maximum of `2` results: "
      ]
    },
    {
      "cell_type": "code",
      "execution_count": null,
      "metadata": {
        "vscode": {
          "languageId": "python"
        }
      },
      "outputs": [],
      "source": [
        "mlflow.search_runs(exp.experiment_id, order_by=[\"start_time DESC\"], max_results=2)"
      ]
    },
    {
      "cell_type": "markdown",
      "metadata": {},
      "source": [
        "You can even create a query to filter the runs. Filter query strings are written with a simplified version of the SQL `WHERE` clause. \n",
        "\n",
        "To filter, you can use two classes of comparators:\n",
        "\n",
        "- Numeric comparators (metrics): =, !=, >, >=, <, and <=.\n",
        "- String comparators (params, tags, and attributes): = and !=.\n",
        "\n",
        "Learn more about [how to track experiments with MLflow](https://learn.microsoft.com/azure/machine-learning/how-to-track-experiments-mlflow)."
      ]
    },
    {
      "cell_type": "code",
      "execution_count": null,
      "metadata": {
        "vscode": {
          "languageId": "python"
        }
      },
      "outputs": [],
      "source": [
        "query = \"metrics.AUC > 0.8 and tags.model_type = 'LogisticRegression'\"\n",
        "mlflow.search_runs(exp.experiment_id, filter_string=query)"
      ]
    }
  ],
  "metadata": {
    "kernel_info": {
      "name": "python38-azureml"
    },
    "kernelspec": {
      "display_name": "Python 3.8 - AzureML",
      "language": "python",
      "name": "python38-azureml"
    },
    "microsoft": {
      "host": {
        "AzureML": {
          "notebookHasBeenCompleted": true
        }
      }
    },
    "nteract": {
      "version": "nteract-front-end@1.0.0"
    },
    "vscode": {
      "interpreter": {
        "hash": "f2b2cd046deda8eabef1e765a11d0ec9aa9bd1d31d56ce79c815a38c323e14ec"
      }
    }
  },
  "nbformat": 4,
  "nbformat_minor": 2
}