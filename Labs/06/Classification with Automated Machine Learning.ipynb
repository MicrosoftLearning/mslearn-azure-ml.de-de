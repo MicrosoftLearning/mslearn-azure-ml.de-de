{
  "cells": [
    {
      "cell_type": "markdown",
      "metadata": {},
      "source": [
        "# Trainieren eines Klassifizierungsmodells mit automatisiertem maschinellen Lernen\n",
        "\n",
        "Es gibt viele Arten von Machine Learning-Algorithmen, mit denen Sie ein Modell trainieren können, und manchmal ist es nicht einfach, den effektivsten Algorithmus für Ihre speziellen Daten und Vorhersageanforderungen zu bestimmen. Darüber hinaus können Sie die Vorhersageleistung eines Modells erheblich beeinflussen, indem Sie die Trainingsdaten mithilfe von Techniken wie beispielsweise der Normalisierung und Imputation fehlender Features vorverarbeiten. Um das beste Modell für Ihre Anforderungen zu finden, müssen Sie möglicherweise viele Kombinationen von Algorithmen und Vorverarbeitungstransformationen ausprobieren, was viel Zeit und Computeressourcen erfordert.\n",
        "\n",
        "Mit Azure Machine Learning können Sie den Vergleich von Modellen automatisieren, die mit verschiedenen Algorithmen und Vorverarbeitungsoptionen trainiert wurden. Sie können die grafische Benutzeroberfläche in [Azure Machine Learning Studio](https://ml/azure.com) oder das Python SDK (v2) verwenden, um diese Funktionalität zu nutzen. Das Python SDK bietet Ihnen eine bessere Kontrolle über die Einstellungen für den Auftrag zum automatisierten maschinellen Lernen, aber die grafische Benutzeroberfläche ist benutzerfreundlicher.\n",
        "\n",
        "## Vorbereitung\n",
        "\n",
        "Sie benötigen die neueste Version des Pakets **azureml-ai-ml**, um den Code in diesem Notebook auszuführen. Führen Sie die folgende Zelle aus, um zu überprüfen, ob das Paket installiert ist.\n",
        "\n",
        "> **Hinweis**:\n",
        "> Wenn das Paket **azure-ai-ml** nicht installiert ist, führen Sie `pip install azure-ai-ml` aus, um es zu installieren."
      ]
    },
    {
      "cell_type": "code",
      "execution_count": null,
      "metadata": {
        "vscode": {
          "languageId": "python"
        }
      },
      "outputs": [],
      "source": [
        "## Herstellen einer Verbindung mit Ihrem Arbeitsbereich\n",
        "\n",
        "Sie können nun eine Verbindung mit Ihrem Arbeitsbereich herstellen, nachdem Sie die erforderlichen SDK-Pakete installiert haben.\n",
        "\n",
        "Um eine Verbindung mit einem Arbeitsbereich herzustellen, benötigen Sie Bezeichnerparameter: eine Abonnement-ID, einen Ressourcengruppennamen und einen Arbeitsbereichsnamen. Der Ressourcengruppenname und Arbeitsbereichsname sind bereits für Sie ausgefüllt. Sie müssen lediglich die Abonnement-ID angeben, um den Befehl zu vervollständigen.\n",
        "\n",
        "Um die erforderlichen Parameter zu finden, klicken Sie rechts oben in Studio auf das Abonnement und den Namen des Arbeitsbereichs. Rechts wird ein Bereich geöffnet.\n",
        "\n",
        "<p style=\"color:red;font-size:120%;background-color:yellow;font-weight:bold\"> Kopieren Sie die Abonnement-ID, und ersetzen Sie **YOUR-SUBSCRIPTION-ID** durch den Wert, den Sie kopiert haben. </p>"
      ]
    },
    {
      "attachments": {},
      "cell_type": "markdown",
      "metadata": {},
      "source": [
        "## Vorbereiten von Daten\n",
        "\n",
        "Sie müssen kein Trainingsskript für automatisiertes maschinelles Lernen erstellen, aber Sie müssen die Trainingsdaten laden. \n",
        "\n",
        "In diesem Fall verwenden Sie ein Dataset mit Details zu Diabetespatienten. \n",
        "\n",
        "Um ein Dataset als Eingabe an einen Auftrag zum automatisierten maschinellen Lernen zu übergeben, müssen die Daten in tabellarischer Form vorliegen und eine Zielspalte enthalten. Damit die Daten als tabellarisches Dataset interpretiert werden können, muss das Eingabedataset eine **MLTable** sein.\n",
        "\n",
        "Während der Einrichtung wurde bereits eine MLTable-Datenressource für Sie erstellt. Sie können die Datenressource erkunden, indem Sie zur Seite **Daten** navigieren. Sie rufen die Datenressource hier ab, indem Sie ihren Namen (`diabetes-training-table`) und ihre Version (`1`) angeben. "
      ]
    },
    {
      "cell_type": "code",
      "execution_count": null,
      "metadata": {
        "gather": {
          "logged": 1664965651163
        },
        "jupyter": {
          "outputs_hidden": false,
          "source_hidden": false
        },
        "nteract": {
          "transient": {
            "deleting": false
          }
        },
        "vscode": {
          "languageId": "python"
        }
      },
      "outputs": [],
      "source": [
        "## Konfigurieren des Auftrags zum automatisierten maschinellen Lernen\n",
        "\n",
        "Nun können Sie das Experiment für automatisiertes maschinelles Lernen konfigurieren.\n",
        "\n",
        "Wenn Sie den folgenden Code ausführen, wird ein Auftrags zum automatisierten maschinellen Lernen erstellt:\n",
        "\n",
        "- Verwendet den Computecluster namens `aml-cluster`\n",
        "- Legt `Diabetic` als Zielspalte fest\n",
        "- Legt `accuracy` als primäre Metrik fest\n",
        "- Führt zu einem Timeout nach `60` Minuten der gesamten Trainingszeit \n",
        "- Trainiert maximal `5` Modelle\n",
        "- Kein Modell wird mit dem Algorithmus `LogisticRegression` trainiert"
      ]
    },
    {
      "cell_type": "code",
      "execution_count": null,
      "metadata": {
        "vscode": {
          "languageId": "python"
        }
      },
      "outputs": [],
      "source": [
        "## Ausführen eines Auftrags für automatisiertes maschinelles Lernen\n",
        "\n",
        "Es kann losgehen! Führen Sie das Experiment für automatisiertes maschinelles Lernen durch.\n",
        "\n",
        "> **Hinweis**: Dieser Vorgang kann einige Zeit dauern!"
      ]
    },
    {
      "cell_type": "markdown",
      "metadata": {},
      "source": [
        "Während der Ausführung des Auftrags können Sie ihn in Studio überwachen."
      ]
    },
    {
      "cell_type": "code",
      "execution_count": null,
      "metadata": {
        "gather": {
          "logged": 1664965655212
        },
        "jupyter": {
          "outputs_hidden": false,
          "source_hidden": false
        },
        "nteract": {
          "transient": {
            "deleting": false
          }
        },
        "vscode": {
          "languageId": "python"
        }
      },
      "outputs": [],
      "source": [
        "from azure.ai.ml.constants import AssetTypes\n",
        "from azure.ai.ml import Input\n",
        "\n",
        "# creates a dataset based on the files in the local data folder\n",
        "my_training_data_input = Input(type=AssetTypes.MLTABLE, path=\"azureml:diabetes-training:1\")"
      ]
    },
    {
      "cell_type": "markdown",
      "metadata": {},
      "source": [
        "## Configure automated machine learning job\n",
        "\n",
        "Now, you're ready to configure the automated machine learning experiment.\n",
        "\n",
        "When you run the code below, it will create an automated machine learning job that:\n",
        "\n",
        "- Uses the compute cluster named `aml-cluster`\n",
        "- Sets `Diabetic` as the target column\n",
        "- Sets `accuracy` as the primary metric\n",
        "- Times out after `60` minutes of total training time \n",
        "- Trains a maximum of `5` models\n",
        "- No model will be trained with the `LogisticRegression` algorithm"
      ]
    },
    {
      "cell_type": "code",
      "execution_count": null,
      "metadata": {
        "gather": {
          "logged": 1664965734226
        },
        "jupyter": {
          "outputs_hidden": false,
          "source_hidden": false
        },
        "nteract": {
          "transient": {
            "deleting": false
          }
        },
        "vscode": {
          "languageId": "python"
        }
      },
      "outputs": [],
      "source": [
        "from azure.ai.ml import automl\n",
        "\n",
        "# configure the classification job\n",
        "classification_job = automl.classification(\n",
        "    compute=\"aml-cluster\",\n",
        "    experiment_name=\"auto-ml-class-dev\",\n",
        "    training_data=my_training_data_input,\n",
        "    target_column_name=\"Diabetic\",\n",
        "    primary_metric=\"accuracy\",\n",
        "    n_cross_validations=5,\n",
        "    enable_model_explainability=True\n",
        ")\n",
        "\n",
        "# set the limits (optional)\n",
        "classification_job.set_limits(\n",
        "    timeout_minutes=60, \n",
        "    trial_timeout_minutes=20, \n",
        "    max_trials=5,\n",
        "    enable_early_termination=True,\n",
        ")\n",
        "\n",
        "# set the training properties (optional)\n",
        "classification_job.set_training(\n",
        "    blocked_training_algorithms=[\"LogisticRegression\"], \n",
        "    enable_onnx_compatible_models=True\n",
        ")"
      ]
    },
    {
      "cell_type": "markdown",
      "metadata": {},
      "source": [
        "## Run an automated machine learning job\n",
        "\n",
        "OK, you're ready to go. Let's run the automated machine learning experiment.\n",
        "\n",
        "> **Note**: This may take some time!"
      ]
    },
    {
      "cell_type": "code",
      "execution_count": null,
      "metadata": {
        "gather": {
          "logged": 1664965739262
        },
        "jupyter": {
          "outputs_hidden": false,
          "source_hidden": false
        },
        "nteract": {
          "transient": {
            "deleting": false
          }
        },
        "vscode": {
          "languageId": "python"
        }
      },
      "outputs": [],
      "source": [
        "# Submit the AutoML job\n",
        "returned_job = ml_client.jobs.create_or_update(\n",
        "    classification_job\n",
        ")  \n",
        "\n",
        "# submit the job to the backend\n",
        "aml_url = returned_job.studio_url\n",
        "print(\"Monitor your job at\", aml_url)"
      ]
    },
    {
      "cell_type": "markdown",
      "metadata": {},
      "source": [
        "While the job is running, you can monitor it in the Studio."
      ]
    }
  ],
  "metadata": {
    "kernel_info": {
      "name": "python38-azureml"
    },
    "kernelspec": {
      "display_name": "Python 3.8 - AzureML",
      "language": "python",
      "name": "python38-azureml"
    },
    "microsoft": {
      "host": {
        "AzureML": {
          "notebookHasBeenCompleted": true
        }
      }
    },
    "nteract": {
      "version": "nteract-front-end@1.0.0"
    },
    "vscode": {
      "interpreter": {
        "hash": "f2b2cd046deda8eabef1e765a11d0ec9aa9bd1d31d56ce79c815a38c323e14ec"
      }
    }
  },
  "nbformat": 4,
  "nbformat_minor": 2
}